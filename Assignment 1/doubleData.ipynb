{
 "cells": [
  {
   "cell_type": "markdown",
   "id": "ded1dac5",
   "metadata": {},
   "source": [
    "Name: Ekansh Somani\n",
    "Roll: 20110065\n",
    "\n",
    "What is this file?\n",
    "\n",
    "Q2 in the assignment required a lot of kernel processing. This is my code to do all the processing, extract the data and then process it to display graphs and answer questions.\n",
    "\n",
    "This file is for **Case B: Double Data Type**. Refer to *processingData.ipynb* for **Case A: Integer Data Type**."
   ]
  },
  {
   "cell_type": "code",
   "execution_count": 1,
   "id": "b377b56c-c6d8-4801-88ff-46b1c2d48dbd",
   "metadata": {},
   "outputs": [],
   "source": [
    "import subprocess\n",
    "import re\n",
    "from statistics import stdev\n",
    "\n",
    "py_files = [\"mult.py\", \"multNum.py\"]\n",
    "cp_file = \"multDouble.cpp\"\n",
    "root = \"Assignment 1/\"\n",
    "inputs = [64, 128, 256, 512, 1024]"
   ]
  },
  {
   "cell_type": "code",
   "execution_count": 2,
   "id": "089d7fd5",
   "metadata": {},
   "outputs": [],
   "source": [
    "def runCommand(command):\n",
    "    result = subprocess.run(command, shell=True, text=True, stdout=subprocess.PIPE, stderr=subprocess.STDOUT)\n",
    "    return result.stdout\n",
    "\n",
    "def parseOutput(output):\n",
    "    values = re.findall(r'\\d+\\.\\d+', output)\n",
    "    values = [float(value) for value in values]\n",
    "    return values\n",
    "\n",
    "def printTables(table, language):\n",
    "\n",
    "    print(f\"| {language} |\", \" | \".join(map(str, inputs)), \"|\")\n",
    "    print(\"| --- | --- | --- | --- | --- | ---- |\")\n",
    "\n",
    "    for key in table:\n",
    "        vals = []\n",
    "        sd = []\n",
    "        for lis in table[key]:\n",
    "            vals.append(sorted(lis)[1])\n",
    "            sd.append(stdev(lis))\n",
    "\n",
    "        formattedVal = [f\"{median:.3f}±{std_dev:.3f}\" for median, std_dev in zip(vals, sd)]\n",
    "        print(f\"| {key} |\",\" | \".join(map(str, formattedVal)), \"|\")\n",
    "    \n",
    "    proportion = []\n",
    "    for i in range(5):\n",
    "        meat = table[\"meat\"][i]\n",
    "        user = table[\"user\"][i]\n",
    "        sysT = table[\"sys\"][i]\n",
    "\n",
    "        proportion.append(sum([m/(u+s+0.01) for m, u, s in zip(meat, user, sysT)])/3)\n",
    "\n",
    "    print(\"| prop |\", \" | \".join(f\"{x:.3f}\" for x in proportion), \"|\")\n",
    "    print(sum(proportion)/5)\n"
   ]
  },
  {
   "cell_type": "code",
   "execution_count": 3,
   "id": "d1fb06c1",
   "metadata": {},
   "outputs": [
    {
     "data": {
      "text/plain": [
       "CompletedProcess(args=['g++', '-o', 'a', 'Assignment 1/multDouble.cpp'], returncode=0)"
      ]
     },
     "execution_count": 3,
     "metadata": {},
     "output_type": "execute_result"
    }
   ],
   "source": [
    "def testFile(file, language):\n",
    "    table = {\"meat\": [], \"real\": [], \"user\": [], \"sys\": []}\n",
    "\n",
    "    for n in inputs:\n",
    "        meatTime = []\n",
    "        realTime = []\n",
    "        userTime = []\n",
    "        sysTime = []\n",
    "        for _ in range(3):\n",
    "\n",
    "            if language==\"C++\": ans = runCommand(f\"/usr/bin/time -p ./a {n}\")\n",
    "            else: ans = runCommand(f\"/usr/bin/time -p python3 \\\"Assignment 1/{file}\\\" {n} 99.99\")\n",
    "            \n",
    "            times = parseOutput(ans)\n",
    "            \n",
    "            meatTime.append(times[0])\n",
    "            realTime.append(times[1])\n",
    "            userTime.append(times[2])\n",
    "            sysTime.append(times[3])\n",
    "\n",
    "        table[\"meat\"].append(meatTime)\n",
    "        table[\"real\"].append(realTime)\n",
    "        table[\"user\"].append(userTime)\n",
    "        table[\"sys\"].append(sysTime)\n",
    "    \n",
    "    printTables(table, language)\n",
    "\n",
    "    return table\n",
    "\n",
    "command = [\"g++\", \"-o\", \"a\", \"Assignment 1/multDouble.cpp\"]\n",
    "subprocess.run(command)"
   ]
  },
  {
   "cell_type": "code",
   "execution_count": 4,
   "id": "9d8b40f5",
   "metadata": {},
   "outputs": [
    {
     "name": "stdout",
     "output_type": "stream",
     "text": [
      "| C++ | 64 | 128 | 256 | 512 | 1024 |\n",
      "| --- | --- | --- | --- | --- | ---- |\n",
      "| meat | 0.006±0.002 | 0.033±0.003 | 0.298±0.036 | 2.663±0.225 | 22.399±1.171 |\n",
      "| real | 0.010±0.006 | 0.040±0.000 | 0.300±0.035 | 2.670±0.224 | 22.420±1.169 |\n",
      "| user | 0.000±0.006 | 0.030±0.000 | 0.300±0.038 | 2.660±0.228 | 22.400±1.175 |\n",
      "| sys | 0.000±0.006 | 0.000±0.006 | 0.000±0.000 | 0.000±0.000 | 0.010±0.006 |\n",
      "| prop | 0.350 | 0.810 | 0.971 | 0.996 | 0.999 |\n",
      "0.8252008922063341\n"
     ]
    }
   ],
   "source": [
    "cpp = testFile(cp_file, \"C++\")"
   ]
  },
  {
   "cell_type": "code",
   "execution_count": 5,
   "id": "758ea6f8",
   "metadata": {},
   "outputs": [
    {
     "name": "stdout",
     "output_type": "stream",
     "text": [
      "| Python | 64 | 128 | 256 | 512 | 1024 |\n",
      "| --- | --- | --- | --- | --- | ---- |\n",
      "| meat | 0.079±0.006 | 0.610±0.049 | 5.074±0.360 | 46.664±6.880 | 350.864±6.601 |\n",
      "| real | 0.110±0.006 | 0.640±0.045 | 5.110±0.356 | 46.710±6.882 | 350.980±6.601 |\n",
      "| user | 0.080±0.006 | 0.610±0.040 | 5.100±0.358 | 46.640±6.870 | 350.750±6.529 |\n",
      "| sys | 0.000±0.006 | 0.000±0.006 | 0.010±0.010 | 0.040±0.006 | 0.170±0.072 |\n",
      "| prop | 0.831 | 0.975 | 0.994 | 0.999 | 1.000 |\n",
      "0.9598278695399358\n"
     ]
    }
   ],
   "source": [
    "pyth = testFile(py_files[0], \"Python\")"
   ]
  },
  {
   "cell_type": "code",
   "execution_count": 7,
   "id": "fa74b4d4",
   "metadata": {},
   "outputs": [
    {
     "name": "stdout",
     "output_type": "stream",
     "text": [
      "| Numpy | 64 | 128 | 256 | 512 | 1024 |\n",
      "| --- | --- | --- | --- | --- | ---- |\n",
      "| meat | 0.000±0.000 | 0.008±0.003 | 0.009±0.002 | 0.013±0.000 | 0.056±0.023 |\n",
      "| real | 0.180±0.015 | 0.220±0.021 | 0.200±0.036 | 0.190±0.012 | 0.260±0.032 |\n",
      "| user | 1.030±0.055 | 1.260±0.155 | 1.070±0.012 | 1.060±0.046 | 1.540±0.272 |\n",
      "| sys | 0.010±0.015 | 0.090±0.046 | 0.130±0.079 | 0.070±0.035 | 0.100±0.023 |\n",
      "| prop | 0.000 | 0.005 | 0.007 | 0.012 | 0.039 |\n",
      "0.012631899668762308\n"
     ]
    }
   ],
   "source": [
    "nump = testFile(py_files[1], \"Numpy\")"
   ]
  },
  {
   "cell_type": "code",
   "execution_count": 8,
   "id": "c5dce16d",
   "metadata": {},
   "outputs": [],
   "source": [
    "import matplotlib.pyplot as plt\n",
    "from math import exp\n",
    "import numpy as np\n",
    "# from scipy.optimize import curve_fit\n",
    "\n",
    "def model_func(x, a, b):\n",
    "    return a*(exp(x))+b\n",
    "\n",
    "def makePlot(clist, pylist, numlist, titleName):\n",
    "    xFlat = np.repeat(inputs, [len(sublist) for sublist in clist])\n",
    "    pyFlat = np.concatenate(pylist)\n",
    "    numFlat = np.concatenate(numlist)\n",
    "    cFlat = np.concatenate(clist)\n",
    "\n",
    "    # cFlat = np.where(cFlat == 0, 1e-4, cFlat)\n",
    "    # pyFlat = np.where(pyFlat == 0, 1e-4, pyFlat)\n",
    "    # numFlat = np.where(numFlat == 0, 1e-4, numFlat)\n",
    "\n",
    "    # cparams = curve_fit(model_func, xFlat, cFlat)\n",
    "    # pyparams = curve_fit(model_func, xFlat, pyFlat)\n",
    "    # numparams = curve_fit(model_func, xFlat, numFlat)\n",
    "\n",
    "    # xFit = np.linspace(min(xFlat), max(xFlat), 100)\n",
    "\n",
    "    # cFit = model_func(xFit, *cparams)\n",
    "    # pyFit = model_func(xFit, *pyparams)\n",
    "    # numFit = model_func(xFit, *numparams)\n",
    "\n",
    "    \n",
    "    plt.scatter(xFlat, cFlat, label=\"CPP\")\n",
    "    plt.scatter(xFlat, pyFlat, label=\"Python\")\n",
    "    plt.scatter(xFlat, numFlat, label=\"Numpy\")\n",
    "\n",
    "    # plt.plot(xFit, cFit, color='blue', label='C++')\n",
    "    # plt.plot(xFit, pyFit, color='yellow', label='Python')\n",
    "    # plt.plot(xFit, numFit, color='black', label='Numpy')\n",
    "\n",
    "    plt.xlabel('N')\n",
    "    plt.ylabel('Time')\n",
    "    plt.yscale('log')\n",
    "    plt.title(titleName)\n",
    "    plt.legend()\n",
    "    plt.show()"
   ]
  },
  {
   "cell_type": "code",
   "execution_count": 9,
   "id": "35de5767",
   "metadata": {},
   "outputs": [
    {
     "data": {
      "image/png": "[encoded data removed]",
      "text/plain": [
       "<Figure size 640x480 with 1 Axes>"
      ]
     },
     "metadata": {},
     "output_type": "display_data"
    }
   ],
   "source": [
    "makePlot(cpp[\"user\"], pyth[\"user\"], nump[\"user\"], \"User Time Comparison\")"
   ]
  },
  {
   "cell_type": "code",
   "execution_count": 11,
   "id": "bc49d41e",
   "metadata": {},
   "outputs": [
    {
     "data": {
      "image/png": "[encoded data removed]",
      "text/plain": [
       "<Figure size 640x480 with 1 Axes>"
      ]
     },
     "metadata": {},
     "output_type": "display_data"
    }
   ],
   "source": [
    "makePlot(cpp[\"sys\"], pyth[\"sys\"], nump[\"sys\"], \"Sys Time Comparison\")"
   ]
  }
 ],
 "metadata": {
  "kernelspec": {
   "display_name": "Python 3 (ipykernel)",
   "language": "python",
   "name": "python3"
  },
  "language_info": {
   "codemirror_mode": {
    "name": "ipython",
    "version": 3
   },
   "file_extension": ".py",
   "mimetype": "text/x-python",
   "name": "python",
   "nbconvert_exporter": "python",
   "pygments_lexer": "ipython3",
   "version": "3.10.12"
  }
 },
 "nbformat": 4,
 "nbformat_minor": 5
}
